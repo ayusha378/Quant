{
 "cells": [
  {
   "cell_type": "code",
   "execution_count": 2,
   "metadata": {},
   "outputs": [],
   "source": [
    "import matplotlib.pyplot as plt\n",
    "import numpy as np\n",
    "import pandas as pd\n",
    "from pandas_datareader import data as wb\n",
    "from math import exp"
   ]
  },
  {
   "cell_type": "code",
   "execution_count": 3,
   "metadata": {},
   "outputs": [],
   "source": [
    "test_frame=wb.DataReader(\"RELIANCE.NS\",\"yahoo\",\"1/1/2015\",\"2/2/2019\")\n",
    "#n=7"
   ]
  },
  {
   "cell_type": "code",
   "execution_count": 4,
   "metadata": {},
   "outputs": [],
   "source": [
    "#test_frame.loc[\"2015-1-1\":f\"2015-1-{n+5}\"]\n",
    "#test_frame[\"Rolling_Maximum\"]=test_frame.rolling(f'{n}d')['Adj Close'].max()\n",
    "#test_frame[\"Rolling_Minimum\"]=test_frame.rolling(f'{n}d')['Adj Close'].min()\n",
    "#test_frame[\"Rolling_Maximum1\"]=test_frame.rolling('14d')['Adj Close'].max()\n",
    "#test_frame[\"Rolling_Minimum2\"]=test_frame.rolling('14d')['Adj Close'].min()\n"
   ]
  },
  {
   "cell_type": "code",
   "execution_count": 5,
   "metadata": {},
   "outputs": [],
   "source": [
    "#test_frame.head(8)\n",
    "#a,b=test_frame[\"Adj Close\"].nsmallest(2)\n",
    "#a\n",
    "#b"
   ]
  },
  {
   "cell_type": "code",
   "execution_count": 6,
   "metadata": {},
   "outputs": [],
   "source": [
    "#df=test_frame.loc[\"2015-1-1\":f\"2015-1-10\"]\n",
    "#a,b=df[\"Adj Close\"].nlargest(2)"
   ]
  },
  {
   "cell_type": "code",
   "execution_count": 7,
   "metadata": {},
   "outputs": [],
   "source": [
    "#df1 = test_frame[(test_frame.index > '2017-08-10') & (test_frame.index <= '2017-08-17')]\n",
    "#df1[\"Adj Close\"].nlargest(2)"
   ]
  },
  {
   "cell_type": "code",
   "execution_count": 8,
   "metadata": {},
   "outputs": [],
   "source": [
    "n_slow=26#The longer period\n",
    "n_fast=12#The shorter period"
   ]
  },
  {
   "cell_type": "code",
   "execution_count": 37,
   "metadata": {},
   "outputs": [],
   "source": [
    "portfolio=1e5\n",
    "tscost=0.005\n",
    "nstocks=0\n",
    "\n",
    "stock_list=[\"RELIANCE.NS\",\"ITC.NS\",\"LUPIN.NS\",\"BHEL.NS\",\"IBVENTURES.NS\"]\n",
    "\n",
    "for s in stock_list:\n",
    "    nstocks+=1\n",
    "\n",
    "#print(nstocks)"
   ]
  },
  {
   "cell_type": "code",
   "execution_count": 11,
   "metadata": {},
   "outputs": [],
   "source": [
    "def get_dataframes(stock,n):\n",
    "    stocks.append(wb.DataReader(stock,\"yahoo\",start=\"1/1/2015\"))"
   ]
  },
  {
   "cell_type": "code",
   "execution_count": 12,
   "metadata": {},
   "outputs": [],
   "source": [
    "def MACD(df,nslow,nfast):\n",
    "    for i in range(len(df)):\n",
    "        df1=df[\"Adj Close\"]\n",
    "        \n",
    "        EWM_slow=df1.ewm(span=nslow,adjust=False).mean()\n",
    "        EWM_fast=df1.ewm(span=nfast,adjust=False).mean()\n",
    "        \n",
    "        df[f\"MACD_{nfast}_{nslow}\"]=EWM_fast-EWM_slow\n",
    "        \n",
    "    return df\n",
    "\n",
    "def MACD_Signal(df,nslow,nfast):\n",
    "    for i in range(len(df)):\n",
    "        df1=df[f\"MACD_{nfast}_{nslow}\"]\n",
    "        df[f\"MACDsignal_{nfast}_{nslow}\"]=df1.ewm(span=9,adjust=False).mean()\n",
    "        \n",
    "    return df\n",
    "\n",
    "def MACD_Diff(df,nslow,nfast):\n",
    "    for i in range(len(df)):\n",
    "        df[f\"MACD_Diff_{nfast}_{nslow}\"]=df[f\"MACD_{nfast}_{nslow}\"]-df[f\"MACDsignal_{nfast}_{nslow}\"]\n",
    "    return df"
   ]
  },
  {
   "cell_type": "code",
   "execution_count": 13,
   "metadata": {},
   "outputs": [
    {
     "data": {
      "text/plain": [
       "'\\ndef MACD_crossover_stratergy(df):\\n    for row in range(len(df)):\\n        if(df[\"Position\"].iloc[row-1]==0):\\n            if(df[f\"MACD_{n_fast}_{n_slow}\"].iloc[row])>(df[f\"MACDsignal_{n_fast}_{n_slow}\"].iloc[row]) and (df[f\"MACD_{n_fast}_{n_slow}\"].iloc[row-1])<(df[f\"MACDsignal_{n_fast}_{n_slow}\"].iloc[row-1]):\\n                df[\"Position\"].iloc[row]=1\\n            if(df[f\"MACD_{n_fast}_{n_slow}\"].iloc[row])<(df[f\"MACDsignal_{n_fast}_{n_slow}\"].iloc[row]) and (df[f\"MACD_{n_fast}_{n_slow}\"].iloc[row-1])>(df[f\"MACDsignal_{n_fast}_{n_slow}\"].iloc[row-1]):\\n                df[\"Position\"].iloc[row]=-1\\n        elif(df[\"Position\"].iloc[row-1]==1):\\n            if(df[f\"MACD_{n_fast}_{n_slow}\"].iloc[row])<(df[f\"MACDsignal_{n_fast}_{n_slow}\"].iloc[row]) and (df[f\"MACD_{n_fast}_{n_slow}\"].iloc[row-1])>(df[f\"MACDsignal_{n_fast}_{n_slow}\"].iloc[row-1]):\\n                df[\"Position\"].iloc[row]=0\\n            else:\\n                df[\"Position\"].iloc[row]=1\\n        else:\\n            if(df[f\"MACD_{n_fast}_{n_slow}\"].iloc[row])>(df[f\"MACDsignal_{n_fast}_{n_slow}\"].iloc[row]) and (df[f\"MACD_{n_fast}_{n_slow}\"].iloc[row-1])<(df[f\"MACDsignal_{n_fast}_{n_slow}\"].iloc[row-1]):\\n                df[\"Position\"].iloc[row]=0\\n            else:\\n                df[\"Position\"].iloc[row]=-1\\n    return df\\n    '"
      ]
     },
     "execution_count": 13,
     "metadata": {},
     "output_type": "execute_result"
    }
   ],
   "source": [
    "#0 stands for no posn\n",
    "#1 stands for long\n",
    "#-1 stands for short\n",
    "\"\"\"\n",
    "def MACD_crossover_stratergy(df):\n",
    "    for row in range(len(df)):\n",
    "        if(df[\"Position\"].iloc[row-1]==0):\n",
    "            if(df[f\"MACD_{n_fast}_{n_slow}\"].iloc[row])>(df[f\"MACDsignal_{n_fast}_{n_slow}\"].iloc[row]) and (df[f\"MACD_{n_fast}_{n_slow}\"].iloc[row-1])<(df[f\"MACDsignal_{n_fast}_{n_slow}\"].iloc[row-1]):\n",
    "                df[\"Position\"].iloc[row]=1\n",
    "            if(df[f\"MACD_{n_fast}_{n_slow}\"].iloc[row])<(df[f\"MACDsignal_{n_fast}_{n_slow}\"].iloc[row]) and (df[f\"MACD_{n_fast}_{n_slow}\"].iloc[row-1])>(df[f\"MACDsignal_{n_fast}_{n_slow}\"].iloc[row-1]):\n",
    "                df[\"Position\"].iloc[row]=-1\n",
    "        elif(df[\"Position\"].iloc[row-1]==1):\n",
    "            if(df[f\"MACD_{n_fast}_{n_slow}\"].iloc[row])<(df[f\"MACDsignal_{n_fast}_{n_slow}\"].iloc[row]) and (df[f\"MACD_{n_fast}_{n_slow}\"].iloc[row-1])>(df[f\"MACDsignal_{n_fast}_{n_slow}\"].iloc[row-1]):\n",
    "                df[\"Position\"].iloc[row]=0\n",
    "            else:\n",
    "                df[\"Position\"].iloc[row]=1\n",
    "        else:\n",
    "            if(df[f\"MACD_{n_fast}_{n_slow}\"].iloc[row])>(df[f\"MACDsignal_{n_fast}_{n_slow}\"].iloc[row]) and (df[f\"MACD_{n_fast}_{n_slow}\"].iloc[row-1])<(df[f\"MACDsignal_{n_fast}_{n_slow}\"].iloc[row-1]):\n",
    "                df[\"Position\"].iloc[row]=0\n",
    "            else:\n",
    "                df[\"Position\"].iloc[row]=-1\n",
    "    return df\n",
    "    \"\"\""
   ]
  },
  {
   "cell_type": "code",
   "execution_count": 28,
   "metadata": {},
   "outputs": [],
   "source": [
    "\"\"\"\n",
    "The pivot indicator used simply has a lookback period.It will look back a historical candle \n",
    "and check whether it was the highest high or lowest low both before and after\n",
    "it and will return the lows and highs over some period of time\n",
    "FOR EX(What I have used)-:\n",
    "\n",
    "Go back by 28 days and look for 7 days before this lookback day and 7 days after this\n",
    "Find the highest and lowest value in this interval(today-35days,today-21days)\n",
    "\n",
    "Again,Go back by 14 days and look for 7 days before and after this lookback day\n",
    "Find the highest and Lowest in this interval(today-21days,today-7days) again.\n",
    "\n",
    "This will(probably) help getting the previous two lows and previous two highs for a given\n",
    "data which will be helpful as we compare the two most recent highs and lows in MACD and\n",
    "close price for looking at trading signals generated by MACD Divergence.\n",
    "\"\"\"\n",
    "def pivots(df,time_period):\n",
    "    df[\"low_close_1\"]=0\n",
    "    df[\"low_close_2\"]=0\n",
    "    df[\"high_close_1\"]=0\n",
    "    df[\"high_close_2\"]=0\n",
    "    df[\"low_MACD_1\"]=0\n",
    "    df[\"low_MACD_2\"]=0\n",
    "    df[\"high_MACD_1\"]=0\n",
    "    df[\"high_MACD_2\"]=0\n",
    "    df[\"Diff_Low_Close\"]=0\n",
    "    df[\"Diff_High_Close\"]=0\n",
    "    df[\"Diff_Low_MACD\"]=0\n",
    "    df[\"Diff_High_MACD\"]=0\n",
    "    for i in range(len(df)):\n",
    "        today=df.index[i]\n",
    "        df1=df[(df.index>today-pd.to_timedelta(28+time_period, unit='d'))&(df.index<today-pd.to_timedelta(28-time_period,unit=\"d\"))]\n",
    "        df[\"low_close_1\"].iloc[i]=df1[\"Adj Close\"].min()\n",
    "        df[\"high_close_1\"].iloc[i]=df1[\"Adj Close\"].max()\n",
    "        df[\"low_MACD_1\"].iloc[i]=df1[f\"MACD_{n_fast}_{n_slow}\"].min()\n",
    "        df[\"high_MACD_1\"].iloc[i]=df1[f\"MACD_{n_fast}_{n_slow}\"].max()\n",
    "        df2=df[(df.index>today-pd.to_timedelta(14+time_period, unit='d'))&(df.index<today-pd.to_timedelta(14-time_period,unit=\"d\"))]\n",
    "        df[\"low_close_2\"].iloc[i]=df2[\"Adj Close\"].min()\n",
    "        df[\"high_close_2\"].iloc[i]=df2[\"Adj Close\"].max()\n",
    "        df[\"low_MACD_2\"].iloc[i]=df2[f\"MACD_{n_fast}_{n_slow}\"].min()\n",
    "        df[\"high_MACD_2\"].iloc[i]=df2[f\"MACD_{n_fast}_{n_slow}\"].max()\n",
    "        \n",
    "        df[\"Diff_Low_Close\"].iloc[i]=df[\"low_close_2\"].iloc[i]-df[\"low_close_1\"].iloc[i]\n",
    "        df[\"Diff_High_Close\"].iloc[i]=df[\"high_close_2\"].iloc[i]-df[\"high_close_1\"].iloc[i]\n",
    "        df[\"Diff_Low_MACD\"].iloc[i]=df[\"low_MACD_2\"].iloc[i]-df[\"low_MACD_1\"].iloc[i]\n",
    "        df[\"Diff_Low_Close\"].iloc[i]=df[\"low_MACD_2\"].iloc[i]-df[\"low_MACD_1\"].iloc[i]\n",
    "    df.dropna()\n",
    "    return df"
   ]
  },
  {
   "cell_type": "code",
   "execution_count": 29,
   "metadata": {},
   "outputs": [
    {
     "data": {
      "text/plain": [
       "'\\ndef MACD_Divergence_Stratergy(df):\\n    for row in range(len(df)):\\n        if(df[\"Position\"].iloc[row-1]==0):\\n            if(df[\"low_MACD_1\"].iloc[row])>(df[\"low_MACD_2\"].iloc[row]) and (df[\"low_close_1\"].iloc[row])<(df[\"low_close_2\"].iloc[row]):\\n                df[\"Position\"].iloc[row]=-1\\n            if(df[\"low_MACD_1\"].iloc[row])<(df[\"low_MACD_2\"].iloc[row]) and (df[\"low_close_1\"].iloc[row])>(df[\"low_close_2\"].iloc[row]):\\n                df[\"Position\"].iloc[row]=1\\n        elif(df[\"Position\"].iloc[row-1]==1):\\n            if(df[\"low_MACD_1\"].iloc[row])>(df[\"low_MACD_2\"].iloc[row]) and (df[\"low_close_1\"].iloc[row])<(df[\"low_close_2\"].iloc[row]):\\n                df[\"Position\"].iloc[row]=0\\n            else:\\n                df[\"Position\"].iloc[row]=1\\n        else:\\n            if(df[\"low_MACD_1\"].iloc[row])<(df[\"low_MACD_2\"].iloc[row]) and (df[\"low_close_1\"].iloc[row])>(df[\"low_close_2\"].iloc[row]):\\n                df[\"Position\"].iloc[row]=0\\n            else:\\n                df[\"Position\"].iloc[row]=-1\\n    return df\\n    '"
      ]
     },
     "execution_count": 29,
     "metadata": {},
     "output_type": "execute_result"
    }
   ],
   "source": [
    "\"\"\"\n",
    "def MACD_Divergence_Stratergy(df):\n",
    "    for row in range(len(df)):\n",
    "        if(df[\"Position\"].iloc[row-1]==0):\n",
    "            if(df[\"low_MACD_1\"].iloc[row])>(df[\"low_MACD_2\"].iloc[row]) and (df[\"low_close_1\"].iloc[row])<(df[\"low_close_2\"].iloc[row]):\n",
    "                df[\"Position\"].iloc[row]=-1\n",
    "            if(df[\"low_MACD_1\"].iloc[row])<(df[\"low_MACD_2\"].iloc[row]) and (df[\"low_close_1\"].iloc[row])>(df[\"low_close_2\"].iloc[row]):\n",
    "                df[\"Position\"].iloc[row]=1\n",
    "        elif(df[\"Position\"].iloc[row-1]==1):\n",
    "            if(df[\"low_MACD_1\"].iloc[row])>(df[\"low_MACD_2\"].iloc[row]) and (df[\"low_close_1\"].iloc[row])<(df[\"low_close_2\"].iloc[row]):\n",
    "                df[\"Position\"].iloc[row]=0\n",
    "            else:\n",
    "                df[\"Position\"].iloc[row]=1\n",
    "        else:\n",
    "            if(df[\"low_MACD_1\"].iloc[row])<(df[\"low_MACD_2\"].iloc[row]) and (df[\"low_close_1\"].iloc[row])>(df[\"low_close_2\"].iloc[row]):\n",
    "                df[\"Position\"].iloc[row]=0\n",
    "            else:\n",
    "                df[\"Position\"].iloc[row]=-1\n",
    "    return df\n",
    "    \"\"\""
   ]
  },
  {
   "cell_type": "code",
   "execution_count": 34,
   "metadata": {},
   "outputs": [],
   "source": [
    "\"\"\"\n",
    "\n",
    "This is the best stratergy as far as MACD is concerned where we combine both crossover and divergence to get\n",
    "better results(accuracy) on the market data.\n",
    "Long: When bullish divergence and a signal cross up is detected\n",
    "Short: When bearish divergence and a signal cross down is detected\n",
    "Exit Long: When bearish divergence or a signal cross down is detected\n",
    "Exit Short: When bullish divergence or a signal cross down is detected\n",
    "\n",
    "\"\"\"\n",
    "def MACD_Cross_Div_Stratergy(df):\n",
    "    df[\"Position\"]=0\n",
    "    for row in range(len(df)):\n",
    "        if(df[\"Position\"].iloc[row-1]==0):\n",
    "            if(((df[f\"MACD_Diff_{n_fast}_{n_slow}\"].iloc[row]>0)&(df[f\"MACD_Diff_{n_fast}_{n_slow}\"].iloc[row-1]<0))&((df[\"Diff_Low_Close\"].iloc[row]>0)&(df[\"Diff_Low_MACD\"].iloc[row]<0))):\n",
    "                df[\"Position\"].iloc[row]=1\n",
    "            if(((df[f\"MACD_Diff_{n_fast}_{n_slow}\"].iloc[row]<0)&(df[f\"MACD_Diff_{n_fast}_{n_slow}\"].iloc[row-1]>0))&((df[\"Diff_Low_Close\"].iloc[row]<0)&(df[\"Diff_Low_MACD\"].iloc[row]>0))):\n",
    "                df[\"Position\"].iloc[row]=-1\n",
    "        if(df[\"Position\"].iloc[row-1]==1):\n",
    "            if(((df[f\"MACD_Diff_{n_fast}_{n_slow}\"].iloc[row]<0)&(df[f\"MACD_Diff_{n_fast}_{n_slow}\"].iloc[row-1]>0))or((df[\"Diff_Low_Close\"].iloc[row]<0)&(df[\"Diff_Low_MACD\"].iloc[row]>0))):\n",
    "                df[\"Position\"].iloc[row]=0\n",
    "            else:\n",
    "                df[\"Position\"].iloc[row]=1\n",
    "        else:\n",
    "            if(((df[f\"MACD_Diff_{n_fast}_{n_slow}\"].iloc[row]>0)&(df[f\"MACD_Diff_{n_fast}_{n_slow}\"].iloc[row-1]<0))or((df[\"Diff_Low_Close\"].iloc[row]>0)&(df[\"Diff_Low_MACD\"].iloc[row]<0))):\n",
    "                df[\"Position\"].iloc[row]=0\n",
    "            else:\n",
    "                df[\"Position\"].iloc[row]=-1\n",
    "    return df"
   ]
  },
  {
   "cell_type": "code",
   "execution_count": 35,
   "metadata": {},
   "outputs": [
    {
     "name": "stderr",
     "output_type": "stream",
     "text": [
      "C:\\Users\\Ayush\\Anaconda2019\\lib\\site-packages\\pandas\\core\\indexing.py:190: SettingWithCopyWarning: \n",
      "A value is trying to be set on a copy of a slice from a DataFrame\n",
      "\n",
      "See the caveats in the documentation: http://pandas.pydata.org/pandas-docs/stable/indexing.html#indexing-view-versus-copy\n",
      "  self._setitem_with_indexer(indexer, value)\n",
      "C:\\Users\\Ayush\\Anaconda2019\\lib\\site-packages\\pandas\\core\\indexing.py:190: SettingWithCopyWarning: \n",
      "A value is trying to be set on a copy of a slice from a DataFrame\n",
      "\n",
      "See the caveats in the documentation: http://pandas.pydata.org/pandas-docs/stable/indexing.html#indexing-view-versus-copy\n",
      "  self._setitem_with_indexer(indexer, value)\n",
      "C:\\Users\\Ayush\\Anaconda2019\\lib\\site-packages\\pandas\\core\\indexing.py:190: SettingWithCopyWarning: \n",
      "A value is trying to be set on a copy of a slice from a DataFrame\n",
      "\n",
      "See the caveats in the documentation: http://pandas.pydata.org/pandas-docs/stable/indexing.html#indexing-view-versus-copy\n",
      "  self._setitem_with_indexer(indexer, value)\n",
      "C:\\Users\\Ayush\\Anaconda2019\\lib\\site-packages\\pandas\\core\\indexing.py:190: SettingWithCopyWarning: \n",
      "A value is trying to be set on a copy of a slice from a DataFrame\n",
      "\n",
      "See the caveats in the documentation: http://pandas.pydata.org/pandas-docs/stable/indexing.html#indexing-view-versus-copy\n",
      "  self._setitem_with_indexer(indexer, value)\n",
      "C:\\Users\\Ayush\\Anaconda2019\\lib\\site-packages\\pandas\\core\\indexing.py:190: SettingWithCopyWarning: \n",
      "A value is trying to be set on a copy of a slice from a DataFrame\n",
      "\n",
      "See the caveats in the documentation: http://pandas.pydata.org/pandas-docs/stable/indexing.html#indexing-view-versus-copy\n",
      "  self._setitem_with_indexer(indexer, value)\n"
     ]
    }
   ],
   "source": [
    "i=0\n",
    "stocks=[]\n",
    "for ticker in stock_list:\n",
    "    get_dataframes(ticker,i)\n",
    "    MACD(stocks[i],n_slow,n_fast)\n",
    "    MACD_Signal(stocks[i],n_slow,n_fast)\n",
    "    MACD_Diff(stocks[i],n_slow,n_fast)\n",
    "    pivots(stocks[i],7)\n",
    "    MACD_Cross_Div_Stratergy(stocks[i])\n",
    "    i+=1"
   ]
  },
  {
   "cell_type": "code",
   "execution_count": 38,
   "metadata": {},
   "outputs": [
    {
     "data": {
      "text/plain": [
       "<matplotlib.axes._subplots.AxesSubplot at 0x173f6b32b38>"
      ]
     },
     "execution_count": 38,
     "metadata": {},
     "output_type": "execute_result"
    },
    {
     "data": {
      "image/png": "[encoded data removed]",
      "text/plain": [
       "<Figure size 432x288 with 1 Axes>"
      ]
     },
     "metadata": {
      "needs_background": "light"
     },
     "output_type": "display_data"
    }
   ],
   "source": [
    "s = (len(stocks[0]),nstocks)\n",
    "#setting the dimensions of the weights vector depending on the available data points\n",
    "#Date=rows\n",
    "#Stock_name=columns\n",
    "weights = np.zeros(s) \n",
    "\n",
    "\n",
    "for row in range(len(stocks[0])):\n",
    "    i = 0\n",
    "    sumwts = 0\n",
    "    for i in range(nstocks):\n",
    "        sumwts+=np.abs(stocks[i]['Position'].iloc[row]) \n",
    "        #checking how many positions were taken on that day\n",
    "    for i in range(nstocks):\n",
    "        if sumwts>0:\n",
    "            #weights assigned as:\n",
    "            #weights = (portfolio*position)/(no.of positions * adj close on that day * (1+transac cost))\n",
    "            weights[row][i]=(portfolio*stocks[i]['Position'].iloc[row])/((sumwts*stocks[i]['Adj Close'].iloc[row])*(1+tscost))\n",
    "        else:\n",
    "            weights[row][i]=0\n",
    "i = 0\n",
    "\n",
    "\n",
    "for i in range(nstocks):\n",
    "    stocks[i]['Market Return'] = (stocks[i]['Adj Close'] - stocks[i]['Adj Close'].shift(1)) #Absolute market return\n",
    "\n",
    "    \n",
    "#Calculating portfolio return\n",
    "stocks[0]['Strategy Return']=0\n",
    "i = 0\n",
    "for i in range(nstocks):\n",
    "    stocks[0]['Strategy Return']+=stocks[i]['Market Return'] * weights[:,i] #multiplying market return of each\n",
    "                                                                            #ticker with its weight\n",
    "stocks[0]['Strategy Return'][64:].cumsum().plot() #Plotting strategy return"
   ]
  },
  {
   "cell_type": "code",
   "execution_count": 39,
   "metadata": {},
   "outputs": [
    {
     "data": {
      "text/plain": [
       "array([[ -47.82773133,  -90.78107176,  -14.22159638, -118.84569639,\n",
       "        -988.53579938],\n",
       "       [ -47.95465289,  -90.49786318,  -14.19081484, -115.93173738,\n",
       "        -961.93088853],\n",
       "       [ -48.4857506 ,  -90.1428432 ,  -14.21065623, -116.736994  ,\n",
       "        -955.99090809],\n",
       "       ...,\n",
       "       [ -15.08584857,  -71.22583374,  -27.3527563 , -291.79616427,\n",
       "         -68.94334985],\n",
       "       [ -14.9723486 ,  -71.11129919,  -27.31333815, -285.51647609,\n",
       "         -71.08589621],\n",
       "       [ -14.89948501,  -71.28962188,  -27.52489282, -290.73043681,\n",
       "         -73.89713485]])"
      ]
     },
     "execution_count": 39,
     "metadata": {},
     "output_type": "execute_result"
    }
   ],
   "source": [
    "weights"
   ]
  },
  {
   "cell_type": "code",
   "execution_count": null,
   "metadata": {},
   "outputs": [],
   "source": []
  }
 ],
 "metadata": {
  "kernelspec": {
   "display_name": "Python 3",
   "language": "python",
   "name": "python3"
  },
  "language_info": {
   "codemirror_mode": {
    "name": "ipython",
    "version": 3
   },
   "file_extension": ".py",
   "mimetype": "text/x-python",
   "name": "python",
   "nbconvert_exporter": "python",
   "pygments_lexer": "ipython3",
   "version": "3.7.3"
  }
 },
 "nbformat": 4,
 "nbformat_minor": 2
}
